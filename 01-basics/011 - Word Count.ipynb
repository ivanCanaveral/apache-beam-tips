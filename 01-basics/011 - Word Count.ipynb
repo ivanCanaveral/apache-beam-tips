{
 "cells": [
  {
   "cell_type": "code",
   "execution_count": null,
   "metadata": {},
   "outputs": [],
   "source": [
    "import apache_beam as beam\n",
    "from apache_beam.options.pipeline_options import PipelineOptions"
   ]
  },
  {
   "cell_type": "code",
   "execution_count": null,
   "metadata": {},
   "outputs": [],
   "source": [
    "pipeline_options = PipelineOptions(['--direct_num_workers', '2'])"
   ]
  },
  {
   "cell_type": "code",
   "execution_count": null,
   "metadata": {},
   "outputs": [],
   "source": [
    "with beam.Pipeline(options=pipeline_options) as pipeline:\n",
    "  lines = (\n",
    "      pipeline\n",
    "      | beam.Create([\n",
    "          'To be, or not to be: that is the question: ',\n",
    "          \"Whether 'tis nobler in the mind to suffer \",\n",
    "          'The slings and arrows of outrageous fortune, ',\n",
    "          'Or to take arms against a sea of troubles, ',\n",
    "      ]))"
   ]
  },
  {
   "cell_type": "code",
   "execution_count": null,
   "metadata": {},
   "outputs": [],
   "source": [
    "import re\n",
    "inputs_pattern = 'data/*'\n",
    "outputs_prefix = 'outputs/part'\n",
    "\n",
    "# Running locally in the DirectRunner.\n",
    "with beam.Pipeline() as pipeline:\n",
    "  (\n",
    "      pipeline\n",
    "      | 'Dataset' >> beam.Create([\n",
    "          'To be, or not to be: that is the question: ',\n",
    "          \"Whether 'tis nobler in the mind to suffer \",\n",
    "          'The slings and arrows of outrageous fortune, ',\n",
    "          'Or to take arms against a sea of troubles, ',\n",
    "      ])\n",
    "      | 'Find words' >> beam.FlatMap(lambda line: re.findall(r\"[a-zA-Z']+\", line))\n",
    "      | 'Pair words with 1' >> beam.Map(lambda word: (word, 1))\n",
    "      | 'Group and sum' >> beam.CombinePerKey(sum)\n",
    "      | 'Format results' >> beam.Map(lambda word_count: str(word_count))\n",
    "      | 'Write results' >> beam.io.WriteToText(outputs_prefix)\n",
    "  )"
   ]
  },
  {
   "cell_type": "code",
   "execution_count": null,
   "metadata": {},
   "outputs": [],
   "source": [
    "with beam.Pipeline(options=pipeline_options) as pipeline:\n",
    "  (\n",
    "      pipeline\n",
    "      | 'Dataset' >> beam.Create([\n",
    "          'To be or not to be: that is the question',\n",
    "          \"Whether tis nobler in the mind to suffer\",\n",
    "          'The slings and arrows of outrageous fortune',\n",
    "          'Or to take arms against a sea of troubles, ',\n",
    "      ])\n",
    "      | 'Find words' >> beam.Map(lambda line: line.lower().split())\n",
    "      | 'Pair words with 1' >> beam.FlatMap(lambda words: [(word, words) for word in words])\n",
    "      | 'Pair words with 2' >> beam.FlatMap(lambda t: [(t[0] + '_' + word, 1) for word in t[1]])\n",
    "      | 'Group and sum' >> beam.CombinePerKey(sum)\n",
    "      | 'Format results' >> beam.Filter(lambda word_count: int(word_count[1]) > 2)\n",
    "      | 'Print words' >> beam.Map(print)\n",
    "      #| 'Write results' >> beam.io.WriteToText(outputs_prefix)\n",
    "  )"
   ]
  }
 ],
 "metadata": {
  "kernelspec": {
   "display_name": "Python 3",
   "language": "python",
   "name": "python3"
  },
  "language_info": {
   "codemirror_mode": {
    "name": "ipython",
    "version": 3
   },
   "file_extension": ".py",
   "mimetype": "text/x-python",
   "name": "python",
   "nbconvert_exporter": "python",
   "pygments_lexer": "ipython3",
   "version": "3.7.9"
  }
 },
 "nbformat": 4,
 "nbformat_minor": 4
}
