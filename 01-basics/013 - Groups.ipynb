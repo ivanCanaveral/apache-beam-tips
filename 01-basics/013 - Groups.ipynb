{
 "cells": [
  {
   "cell_type": "code",
   "execution_count": null,
   "metadata": {},
   "outputs": [],
   "source": [
    "import random"
   ]
  },
  {
   "cell_type": "code",
   "execution_count": null,
   "metadata": {},
   "outputs": [],
   "source": [
    "import apache_beam as beam\n",
    "from apache_beam.options.pipeline_options import PipelineOptions"
   ]
  },
  {
   "cell_type": "code",
   "execution_count": null,
   "metadata": {},
   "outputs": [],
   "source": [
    "pipeline_options = PipelineOptions(['--direct_num_workers', '2'])"
   ]
  },
  {
   "cell_type": "markdown",
   "metadata": {},
   "source": [
    "## GroupByKey"
   ]
  },
  {
   "cell_type": "code",
   "execution_count": null,
   "metadata": {},
   "outputs": [],
   "source": [
    "bounded_data = [(random.choice(['a', 'b', 'c']), random.randint(0,10)) for _ in range(20)]"
   ]
  },
  {
   "cell_type": "code",
   "execution_count": null,
   "metadata": {},
   "outputs": [],
   "source": [
    "with beam.Pipeline(options=pipeline_options) as pipeline:\n",
    "  (\n",
    "      pipeline\n",
    "      | beam.Create(bounded_data)\n",
    "      | 'Number per letter' >> beam.GroupByKey()\n",
    "      | 'Print Groups' >> beam.Map(print)\n",
    "  )"
   ]
  },
  {
   "cell_type": "code",
   "execution_count": null,
   "metadata": {},
   "outputs": [],
   "source": [
    "with beam.Pipeline(options=pipeline_options) as pipeline:\n",
    "  (\n",
    "      pipeline\n",
    "      | beam.Create(bounded_data)\n",
    "      | 'Number of words' >> beam.GroupByKey()\n",
    "      | 'Sum of lists' >> beam.Map(lambda x: (x[0], sum([int(n) for n in x[1]])))\n",
    "      | 'Print words' >> beam.Map(print)\n",
    "  )"
   ]
  },
  {
   "cell_type": "markdown",
   "metadata": {},
   "source": [
    "### CoGroupByKey()"
   ]
  },
  {
   "cell_type": "code",
   "execution_count": null,
   "metadata": {},
   "outputs": [],
   "source": [
    "dataA = zip(['a','b','c', 'a'], ['1','2','3', 4])\n",
    "dataB = zip(['a','b','c'], ['11','22','33'])"
   ]
  },
  {
   "cell_type": "code",
   "execution_count": null,
   "metadata": {
    "scrolled": true
   },
   "outputs": [],
   "source": [
    "with beam.Pipeline(options=pipeline_options) as p:\n",
    "    singles = p | \"table A\" >> beam.Create(dataA)\n",
    "    couples = p | \"table B\" >> beam.Create(dataB)\n",
    "    merged = (\n",
    "        {'singles': singles, 'couples':couples} \n",
    "        | \"CoGroup\" >> beam.CoGroupByKey()\n",
    "        | \"Print\" >> beam.Map(print)\n",
    "    )"
   ]
  }
 ],
 "metadata": {
  "kernelspec": {
   "display_name": "Python 3",
   "language": "python",
   "name": "python3"
  },
  "language_info": {
   "codemirror_mode": {
    "name": "ipython",
    "version": 3
   },
   "file_extension": ".py",
   "mimetype": "text/x-python",
   "name": "python",
   "nbconvert_exporter": "python",
   "pygments_lexer": "ipython3",
   "version": "3.7.9"
  }
 },
 "nbformat": 4,
 "nbformat_minor": 4
}
